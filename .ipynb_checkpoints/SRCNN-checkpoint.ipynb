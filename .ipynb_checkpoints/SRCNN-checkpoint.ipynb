{
 "cells": [
  {
   "cell_type": "code",
   "execution_count": 4,
   "metadata": {},
   "outputs": [],
   "source": [
    "import keras\n",
    "import matplotlib.pyplot as plt\n",
    "import cv2\n",
    "import skimage\n",
    "from skimage.measure import compare_ssim as ssim\n",
    "import numpy as np\n",
    "from keras.models import Sequential\n",
    "from keras.layers import Conv2D,Dense,MaxPooling2D\n",
    "from keras.optimizers import Adam,SGD\n",
    "import math\n",
    "import os\n",
    "%matplotlib inline"
   ]
  },
  {
   "cell_type": "code",
   "execution_count": null,
   "metadata": {},
   "outputs": [],
   "source": [
    "# define a PSNR function (Peak Signal to Noise Ratio) \n",
    "def psnr(target_img,ref_img):\n",
    "    target_data = target_img.astype(float)\n",
    "    ref_data = ref_img.astype(float)\n",
    "    \n",
    "    difference = ref_data - target_data\n",
    "    \n",
    "    rsme = math.sqrt(np.mean(diff**2))\n",
    "    \n",
    "    return 20 * math.log10(255./rmse)\n",
    "\n",
    "def mse(target_img,ref_img):\n",
    "    \n",
    "    err = np.sum((target_img.astype(float) - ref_img.astype(float))**2)\n",
    "    err /= (target_img.shape[0] * target_img[1])\n",
    "    \n",
    "    return err\n",
    "\n",
    "def compare_image(target_img,ref_img):\n",
    "    scores = []\n",
    "    socres.append(psnr(target_img,ref_img))\n",
    "    socres.append(mse(target_img,ref_img))\n",
    "    socres.append((target_img,ref_img,multichannel=True))\n",
    "    return scores\n",
    "    "
   ]
  }
 ],
 "metadata": {
  "kernelspec": {
   "display_name": "Python 3",
   "language": "python",
   "name": "python3"
  },
  "language_info": {
   "codemirror_mode": {
    "name": "ipython",
    "version": 3
   },
   "file_extension": ".py",
   "mimetype": "text/x-python",
   "name": "python",
   "nbconvert_exporter": "python",
   "pygments_lexer": "ipython3",
   "version": "3.6.1"
  }
 },
 "nbformat": 4,
 "nbformat_minor": 2
}
